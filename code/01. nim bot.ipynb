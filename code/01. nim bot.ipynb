{
 "cells": [
  {
   "cell_type": "code",
   "execution_count": null,
   "metadata": {},
   "outputs": [],
   "source": [
    "import socketserver\n",
    "\n",
    "IPS = {}\n",
    "STONES = 20\n",
    "MAX = 4\n",
    "\n",
    "class NimTCPHandler(socketserver.BaseRequestHandler):\n",
    "\n",
    "    def my_move(self):\n",
    "        #TODO WRITE YOUR CODE HERE        \n",
    "        remains = IPS[self.ip]\n",
    "        take = 0\n",
    "        \n",
    "        \n",
    "        return take\n",
    "    \n",
    "    def handle(self):\n",
    "        self.ip = self.client_address[0]\n",
    "        self.request.send(bytes(f\"Hello, {self.ip}. We start the game with {STONES} stones, you take 1-{MAX}. How many will you take?\\n>\", 'utf8'))    \n",
    "        IPS[self.ip] = STONES\n",
    "    \n",
    "        while True:\n",
    "            \n",
    "            # read and validate the move of user\n",
    "            self.data = str(self.request.recv(1024).strip(), 'utf8')\n",
    "            print(f\"[{self.ip}] Client message: {self.data}\")\n",
    "            if self.data not in [str(x) for x in range(1, MAX+1)]:\n",
    "                self.request.send(bytes(\"You voilate the rules. Enter another amount\\n>\", 'utf8'))\n",
    "                continue\n",
    "            move = int(self.data)\n",
    "            if IPS[self.ip] - move < 0:\n",
    "                self.request.send(bytes(\"You grab more than you can. Enter another amout\\n>\", 'utf8'))    \n",
    "                continue\n",
    "            \n",
    "            # make a move of user\n",
    "            IPS[self.ip] -= move\n",
    "            \n",
    "            # test for the end\n",
    "            if IPS[self.ip] == 0:\n",
    "                self.request.send(bytes(\"You lost\\n\", 'utf8'))\n",
    "                break\n",
    "            if IPS[self.ip] == 1:\n",
    "                self.request.send(bytes(\"You won\\n\", 'utf8'))\n",
    "                break\n",
    "            \n",
    "            # if this is not the end\n",
    "            message = \"You took {} stones. {} remains\\n\".format(move, IPS[self.ip])\n",
    "            self.request.send(bytes(message, 'utf8'))\n",
    "            \n",
    "            \n",
    "            # make a move!\n",
    "            my = self.my_move()\n",
    "            IPS[self.ip] -= my\n",
    "            message = \"Server {} takes {} stones, {} remains\\n\".format(self.ip, my, IPS[self.ip])\n",
    "            self.request.send(bytes(message, 'utf8'))\n",
    "            if IPS[self.ip] == 1:\n",
    "                self.request.send(bytes(\"I won!!!\", 'utf8'))\n",
    "                break"
   ]
  },
  {
   "cell_type": "code",
   "execution_count": null,
   "metadata": {},
   "outputs": [],
   "source": [
    "with socketserver.TCPServer(('0.0.0.0', 8989), NimTCPHandler) as server:\n",
    "    server.serve_forever()"
   ]
  }
 ],
 "metadata": {
  "kernelspec": {
   "display_name": "Python 3",
   "language": "python",
   "name": "python3"
  },
  "language_info": {
   "codemirror_mode": {
    "name": "ipython",
    "version": 3
   },
   "file_extension": ".py",
   "mimetype": "text/x-python",
   "name": "python",
   "nbconvert_exporter": "python",
   "pygments_lexer": "ipython3",
   "version": "3.8.5"
  }
 },
 "nbformat": 4,
 "nbformat_minor": 4
}
