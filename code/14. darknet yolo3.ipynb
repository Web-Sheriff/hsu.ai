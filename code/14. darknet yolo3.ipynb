{
 "cells": [
  {
   "cell_type": "markdown",
   "metadata": {},
   "source": [
    "# Installing #\n",
    "In case you have CUDA or OpenCV installed you may want to change some properties in `Makefile`. Then follow [the instruction](https://pjreddie.com/darknet/install/).\n",
    "\n",
    "```\n",
    "git clone https://github.com/pjreddie/darknet.git\n",
    "cd darknet\n",
    "make \n",
    "```\n",
    "\n",
    "### Windows is such a Windows ###\n",
    "After\n",
    "```\n",
    "git clone https://github.com/pjreddie/darknet.git\n",
    "cd darknet\n",
    "```\n",
    "for Windows users you will need to have `make` on your machine. There are multiple ways to obtain it, simplest one is to have [MinGW](http://www.mingw.org/wiki/getting_started) installed. If you have `mingw-get.exe` binary from [here](https://osdn.net/projects/mingw/downloads/68260/mingw-get-0.6.3-mingw32-pre-20170905-1-bin.zip/) just run following commands and don't forget to add binaries to `PATH` (`./bin` and `./msys/1.0/bin`).\n",
    "```\n",
    "mingw-get install msys mingw-developer-toolkit-bin gcc g++ mingw32-make gdb pthreads msys-wget\n",
    "```\n",
    "Than there is a need in a patch `darknet` itself... Oh noo....\n",
    "For me worked:\n",
    "1. Goto **`Makefile`** and remove `go.o` and `cifar.o` mentions in line 62.\n",
    "2. Remove `run_go` and `run_cifar` function declaration and calls from **`/examples/darknet.c`** (lines 19, 20, 439, 441).\n",
    "\n",
    "Other way is to follow [this guide](https://github.com/buptdbj/darknet-windows-linux#how-to-compile-on-windows).\n",
    "\n",
    "### Or use prebuild binaries (Windows, Ubuntu).\n",
    "The last way. I prebuilt `darknet` [executables and libraries for 2 systems](https://github.com/hsu-ai-course/hsu.ai/tree/master/bin). Enjoy.\n",
    "\n",
    "### Also ###\n",
    "Also later you will need `wget`. Or download the following links from browser.\n",
    "```\n",
    "wget --no-check-certificate https://pjreddie.com/media/files/darknet19.weights\n",
    "wget --no-check-certificate https://pjreddie.com/media/files/yolov3-tiny.weights\n",
    "```\n",
    "\n",
    "# Running #\n",
    "If you downloaded weights, you can test ImageNet-pretrained model like this:\n",
    "```\n",
    "./darknet classifier predict cfg/imagenet1k.data cfg/darknet19.cfg darknet19.weights data/dog.jpg\n",
    "```\n",
    "For a tiny Yolo3 please run:\n",
    "```\n",
    "./darknet detect cfg/yolov3-tiny.cfg yolov3-tiny.weights data/dog.jpg\n",
    "```"
   ]
  },
  {
   "cell_type": "markdown",
   "metadata": {},
   "source": [
    "# Loading darknet as a library #\n",
    "The following code should work for Linux, but I could not make it work for Windows. `libdarknet.so` should be a correct dll (you can rename it in the `Makefile`), but in my particular case it was not compiling correctly to be referenced from Python. Thus, I leave this block as an exercise."
   ]
  },
  {
   "cell_type": "code",
   "execution_count": null,
   "metadata": {},
   "outputs": [],
   "source": [
    "import sys, os\n",
    "\n",
    "here = os.getcwd()\n",
    "print(\"Here:\", here)\n",
    "os.chdir('./darknet/')\n",
    "\n",
    "from datasets.ml.yolo import darknet3\n",
    "# to load network you need structure (config) and weights (.weights)\n",
    "net = darknet3.load_net(b\"cfg/yolov3.cfg\", b\"yolov3.weights\", 0)\n",
    "\n",
    "# meta provides info about dataset tags\n",
    "# we need it to know how many tags are there in data/coco.names file\n",
    "meta = darknet3.load_meta(b\"cfg/coco.data\")\n",
    "os.chdir(here)\n",
    "print(\"Here now:\", here)"
   ]
  },
  {
   "cell_type": "code",
   "execution_count": null,
   "metadata": {},
   "outputs": [],
   "source": [
    "bb = darknet3.detect(net, meta, b\"datasets/images/cars.jpg\")\n",
    "print(bb)\n",
    "\n",
    "# TODO: visualize bounding boxes on the image\n",
    "# crop separate images and display them together with tags"
   ]
  }
 ],
 "metadata": {
  "kernelspec": {
   "display_name": "Python 3",
   "language": "python",
   "name": "python3"
  },
  "language_info": {
   "codemirror_mode": {
    "name": "ipython",
    "version": 3
   },
   "file_extension": ".py",
   "mimetype": "text/x-python",
   "name": "python",
   "nbconvert_exporter": "python",
   "pygments_lexer": "ipython3",
   "version": "3.7.4"
  }
 },
 "nbformat": 4,
 "nbformat_minor": 4
}
